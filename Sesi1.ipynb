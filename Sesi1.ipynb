{
  "nbformat": 4,
  "nbformat_minor": 0,
  "metadata": {
    "colab": {
      "name": "Sesi1.ipynb",
      "provenance": [],
      "collapsed_sections": [],
      "include_colab_link": true
    },
    "kernelspec": {
      "display_name": "Python 3",
      "name": "python3"
    }
  },
  "cells": [
    {
      "cell_type": "markdown",
      "metadata": {
        "id": "view-in-github",
        "colab_type": "text"
      },
      "source": [
        "<a href=\"https://colab.research.google.com/github/Tugianto/BI-JGU/blob/main/Sesi1.ipynb\" target=\"_parent\"><img src=\"https://colab.research.google.com/assets/colab-badge.svg\" alt=\"Open In Colab\"/></a>"
      ]
    },
    {
      "cell_type": "code",
      "metadata": {
        "id": "4ccgSIgWnBp6",
        "outputId": "123b2a86-d465-492c-806b-fe98a1918f36",
        "colab": {
          "base_uri": "https://localhost:8080/",
          "height": 34
        }
      },
      "source": [
        "print (\"Hallo apa kabar\",\"Kamu hari ini\",\"?\")"
      ],
      "execution_count": 3,
      "outputs": [
        {
          "output_type": "stream",
          "text": [
            "Hallo apa kabar Kamu hari ini ?\n"
          ],
          "name": "stdout"
        }
      ]
    },
    {
      "cell_type": "code",
      "metadata": {
        "id": "R9ahRPrwqEu-",
        "outputId": "5b96338d-727a-4ef3-e867-b1eba1d8dbb0",
        "colab": {
          "base_uri": "https://localhost:8080/",
          "height": 34
        }
      },
      "source": [
        "print (\"No kw-\",1)"
      ],
      "execution_count": 5,
      "outputs": [
        {
          "output_type": "stream",
          "text": [
            "No kw- 1\n"
          ],
          "name": "stdout"
        }
      ]
    },
    {
      "cell_type": "code",
      "metadata": {
        "id": "ddCH6spdqQDF",
        "outputId": "fad8be02-8492-4204-fe4a-84dacf11b319",
        "colab": {
          "base_uri": "https://localhost:8080/",
          "height": 52
        }
      },
      "source": [
        "tipe1 = 0\n",
        "tipe2 = 1.2\n",
        "tipe3= \"Siapa\"\n",
        "\n",
        "print (tipe3)\n",
        "type(tipe2)\n",
        "\n"
      ],
      "execution_count": 10,
      "outputs": [
        {
          "output_type": "stream",
          "text": [
            "Siapa\n"
          ],
          "name": "stdout"
        },
        {
          "output_type": "execute_result",
          "data": {
            "text/plain": [
              "float"
            ]
          },
          "metadata": {
            "tags": []
          },
          "execution_count": 10
        }
      ]
    },
    {
      "cell_type": "code",
      "metadata": {
        "id": "9dtF7EfH3AU-",
        "outputId": "031bce29-72a0-4187-eaa8-9275eb038f33",
        "colab": {
          "base_uri": "https://localhost:8080/",
          "height": 34
        }
      },
      "source": [
        "x = 3\n",
        "y = 2\n",
        "z = x * y\n",
        "print (z)\n"
      ],
      "execution_count": 11,
      "outputs": [
        {
          "output_type": "stream",
          "text": [
            "6\n"
          ],
          "name": "stdout"
        }
      ]
    },
    {
      "cell_type": "code",
      "metadata": {
        "id": "XVJ8QeUF3b3D",
        "outputId": "578aa52a-53d4-46b4-e9d2-119eca101e7f",
        "colab": {
          "base_uri": "https://localhost:8080/",
          "height": 34
        }
      },
      "source": [
        "a = 1\n",
        "b = a + 1\n",
        "b = 2\n",
        "c = a + b\n",
        "type(c)\n",
        "c = str(c)\n",
        "\n",
        "\n",
        "print(c)"
      ],
      "execution_count": 16,
      "outputs": [
        {
          "output_type": "stream",
          "text": [
            "3\n"
          ],
          "name": "stdout"
        }
      ]
    },
    {
      "cell_type": "code",
      "metadata": {
        "id": "P2pU9xft4MZb",
        "outputId": "4a94ca76-eed0-482c-95d9-8db593e81b48",
        "colab": {
          "base_uri": "https://localhost:8080/",
          "height": 34
        }
      },
      "source": [
        "b = str(a)\n",
        "print(b*5)"
      ],
      "execution_count": 18,
      "outputs": [
        {
          "output_type": "stream",
          "text": [
            "11111\n"
          ],
          "name": "stdout"
        }
      ]
    },
    {
      "cell_type": "code",
      "metadata": {
        "id": "KvOopHUo4tL_",
        "outputId": "582279e4-9d0d-45ab-e541-50f1d0a65d14",
        "colab": {
          "base_uri": "https://localhost:8080/",
          "height": 34
        }
      },
      "source": [
        "b = \"hai\"\n",
        "print(b*5)"
      ],
      "execution_count": 19,
      "outputs": [
        {
          "output_type": "stream",
          "text": [
            "haihaihaihaihai\n"
          ],
          "name": "stdout"
        }
      ]
    },
    {
      "cell_type": "code",
      "metadata": {
        "id": "3LQzfNmW42Fx",
        "outputId": "75d5ac44-0be8-401a-d93f-042a952e002d",
        "colab": {
          "base_uri": "https://localhost:8080/",
          "height": 34
        }
      },
      "source": [
        "a = 2\n",
        "b = 3\n",
        "print(\"a adalah\",a,\"dan\",\"b adalah\",b)"
      ],
      "execution_count": 20,
      "outputs": [
        {
          "output_type": "stream",
          "text": [
            "a adalah 2 dan b adalah 3\n"
          ],
          "name": "stdout"
        }
      ]
    },
    {
      "cell_type": "code",
      "metadata": {
        "id": "S0gthkKo5Y_B",
        "outputId": "74c69525-4826-4af3-82a8-d6d17dd8b175",
        "colab": {
          "base_uri": "https://localhost:8080/",
          "height": 34
        }
      },
      "source": [
        "c = a\n",
        "a = b\n",
        "b = c\n",
        "print(\"a adalah\",a,\"dan\",\"b adalah\",b)"
      ],
      "execution_count": 21,
      "outputs": [
        {
          "output_type": "stream",
          "text": [
            "a adalah 3 dan b adalah 2\n"
          ],
          "name": "stdout"
        }
      ]
    },
    {
      "cell_type": "code",
      "metadata": {
        "id": "b31DA8oa5paw"
      },
      "source": [
        "# tambah => +\n",
        "# kurang => -\n",
        "# kali = *\n",
        "# bagi => /\n",
        "# pangkat => **\n",
        "\n",
        "print(\"hai\"*(2**3))"
      ],
      "execution_count": null,
      "outputs": []
    },
    {
      "cell_type": "code",
      "metadata": {
        "id": "9QZaVp-26Ozt",
        "outputId": "7ffae776-0865-4824-8029-8313e247fa27",
        "colab": {
          "base_uri": "https://localhost:8080/",
          "height": 54
        }
      },
      "source": [
        "print(\"Masukan nama anda\")\n",
        "a = input()\n",
        "print(\"Halo\",a,\", Senang berkenalan dengan anda\")"
      ],
      "execution_count": null,
      "outputs": [
        {
          "output_type": "stream",
          "text": [
            "Masukan nama anda\n"
          ],
          "name": "stdout"
        }
      ]
    }
  ]
}